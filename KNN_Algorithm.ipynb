{
  "nbformat": 4,
  "nbformat_minor": 0,
  "metadata": {
    "colab": {
      "provenance": [],
      "authorship_tag": "ABX9TyOXqagRaVtmlUR/L3XjIpqh",
      "include_colab_link": true
    },
    "kernelspec": {
      "name": "python3",
      "display_name": "Python 3"
    },
    "language_info": {
      "name": "python"
    }
  },
  "cells": [
    {
      "cell_type": "markdown",
      "metadata": {
        "id": "view-in-github",
        "colab_type": "text"
      },
      "source": [
        "<a href=\"https://colab.research.google.com/github/Adharsh0001/Machine-Learning/blob/main/KNN_Algorithm.ipynb\" target=\"_parent\"><img src=\"https://colab.research.google.com/assets/colab-badge.svg\" alt=\"Open In Colab\"/></a>"
      ]
    },
    {
      "cell_type": "code",
      "execution_count": null,
      "metadata": {
        "colab": {
          "base_uri": "https://localhost:8080/"
        },
        "id": "BQv_f8WBjN5E",
        "outputId": "2809c905-cd2a-4bd4-d5bc-04f77a39b125"
      },
      "outputs": [
        {
          "output_type": "stream",
          "name": "stdout",
          "text": [
            "Looking in indexes: https://pypi.org/simple, https://us-python.pkg.dev/colab-wheels/public/simple/\n",
            "Requirement already satisfied: mlxtend in /usr/local/lib/python3.10/dist-packages (0.22.0)\n",
            "Requirement already satisfied: scipy>=1.2.1 in /usr/local/lib/python3.10/dist-packages (from mlxtend) (1.10.1)\n",
            "Requirement already satisfied: numpy>=1.16.2 in /usr/local/lib/python3.10/dist-packages (from mlxtend) (1.22.4)\n",
            "Requirement already satisfied: pandas>=0.24.2 in /usr/local/lib/python3.10/dist-packages (from mlxtend) (1.5.3)\n",
            "Requirement already satisfied: scikit-learn>=1.0.2 in /usr/local/lib/python3.10/dist-packages (from mlxtend) (1.2.2)\n",
            "Requirement already satisfied: matplotlib>=3.0.0 in /usr/local/lib/python3.10/dist-packages (from mlxtend) (3.7.1)\n",
            "Requirement already satisfied: joblib>=0.13.2 in /usr/local/lib/python3.10/dist-packages (from mlxtend) (1.2.0)\n",
            "Requirement already satisfied: setuptools in /usr/local/lib/python3.10/dist-packages (from mlxtend) (67.7.2)\n",
            "Requirement already satisfied: contourpy>=1.0.1 in /usr/local/lib/python3.10/dist-packages (from matplotlib>=3.0.0->mlxtend) (1.0.7)\n",
            "Requirement already satisfied: cycler>=0.10 in /usr/local/lib/python3.10/dist-packages (from matplotlib>=3.0.0->mlxtend) (0.11.0)\n",
            "Requirement already satisfied: fonttools>=4.22.0 in /usr/local/lib/python3.10/dist-packages (from matplotlib>=3.0.0->mlxtend) (4.39.3)\n",
            "Requirement already satisfied: kiwisolver>=1.0.1 in /usr/local/lib/python3.10/dist-packages (from matplotlib>=3.0.0->mlxtend) (1.4.4)\n",
            "Requirement already satisfied: packaging>=20.0 in /usr/local/lib/python3.10/dist-packages (from matplotlib>=3.0.0->mlxtend) (23.1)\n",
            "Requirement already satisfied: pillow>=6.2.0 in /usr/local/lib/python3.10/dist-packages (from matplotlib>=3.0.0->mlxtend) (8.4.0)\n",
            "Requirement already satisfied: pyparsing>=2.3.1 in /usr/local/lib/python3.10/dist-packages (from matplotlib>=3.0.0->mlxtend) (3.0.9)\n",
            "Requirement already satisfied: python-dateutil>=2.7 in /usr/local/lib/python3.10/dist-packages (from matplotlib>=3.0.0->mlxtend) (2.8.2)\n",
            "Requirement already satisfied: pytz>=2020.1 in /usr/local/lib/python3.10/dist-packages (from pandas>=0.24.2->mlxtend) (2022.7.1)\n",
            "Requirement already satisfied: threadpoolctl>=2.0.0 in /usr/local/lib/python3.10/dist-packages (from scikit-learn>=1.0.2->mlxtend) (3.1.0)\n",
            "Requirement already satisfied: six>=1.5 in /usr/local/lib/python3.10/dist-packages (from python-dateutil>=2.7->matplotlib>=3.0.0->mlxtend) (1.16.0)\n"
          ]
        }
      ],
      "source": [
        "!pip install mlxtend\n",
        "import pandas as pd\n",
        "from sklearn.model_selection import train_test_split\n",
        "import seaborn as sns\n",
        "import numpy as np\n",
        "import matplotlib.pyplot as plt\n",
        "from sklearn.neighbors import KNeighborsClassifier, KNeighborsRegressor\n",
        "from sklearn.linear_model import LogisticRegression\n",
        "from mlxtend.plotting import plot_decision_regions\n",
        "from sklearn.model_selection import cross_val_score"
      ]
    },
    {
      "cell_type": "code",
      "source": [
        "# data1 = pd.read_csv(\"/content/ushape.csv\")\n",
        "# data1\n",
        "# X = data1[[\"X\",\"Y\"]].values\n",
        "# Y = data1[\"class\"].values\n",
        "# X_train, X_test, Y_train,Y_test=  train_test_split(X,Y,test_size = 0.3)\n",
        "\n",
        "# from sklearn.preprocessing import StandardScaler\n",
        "# scaler = StandardScaler()\n",
        "# X_train = scaler.fit_transform(X_train)\n",
        "# X_test = scaler.transform(X_test)\n",
        "\n",
        "# for i in range(1,20):\n",
        "#   knn = KNeighborsClassifier(i)\n",
        "#   knn.fit(X_train, Y_train)\n",
        "#   knn.score(X_test,Y_test)\n",
        "#   print(\"K value:\", i, \"train score:\", knn.score(X_train,Y_train), \"score :\", np.mean(cross_val_score(knn, X_train, Y_train, cv = 10)))\n"
      ],
      "metadata": {
        "id": "SxO3PPycrSJ9"
      },
      "execution_count": null,
      "outputs": []
    },
    {
      "cell_type": "code",
      "source": [
        "# knn = KNeighborsClassifier(3)\n",
        "# knn.fit(X_train, Y_train)\n",
        "# knn.score(X_test,Y_test)"
      ],
      "metadata": {
        "id": "EHrryYWUut-P"
      },
      "execution_count": null,
      "outputs": []
    },
    {
      "cell_type": "code",
      "source": [
        "def knn_comparison(data,k):\n",
        "  X = data[[\"X\",\"Y\"]].values\n",
        "  Y = data[\"Z\"].astype(int).values\n",
        "  X_train, X_test, Y_train,Y_test=  train_test_split(X,Y,test_size = 0.3)\n",
        "  clf = KNeighborsClassifier(n_neighbors=k)\n",
        "  clf.fit(X_train, Y_train)\n",
        "  #print(\"Train Accuracy:\", clf.score(X_train, Y_train))\n",
        "  #print(\"Val Accuracy:\", np.mean(cross_val_score(clf,X_train,Y_train,cv =10)))\n",
        "  print(\"Train Accuracy:\", clf.score(X_train, Y_train),\"Val Accuracy:\", np.mean(cross_val_score(clf,X_train,Y_train,cv =10)))\n",
        "  # plot_decision_regions(X=X_train,y=Y_train,clf=clf,legend=2)\n",
        "  # plt.xlabel(\"X\")\n",
        "  # plt.ylabel(\"Y\")\n",
        "  # plt.title(\"Knn with K=\" +str(k))\n",
        "  # plt.show()"
      ],
      "metadata": {
        "id": "irTygFafOKIf"
      },
      "execution_count": null,
      "outputs": []
    },
    {
      "cell_type": "code",
      "source": [
        "data1 = pd.read_csv(\"/content/Xor_Dataset.csv\")\n",
        "for i in [1,2,3,4,5,6,7,8,9,10,20,40]:\n",
        "  print(i)\n",
        "  knn_comparison(data1,i)\n",
        "  #knn_no_plot(data1,i)\n"
      ],
      "metadata": {
        "id": "1pYPPGGBN2ug",
        "colab": {
          "base_uri": "https://localhost:8080/"
        },
        "outputId": "6ecc073a-2402-4082-8aac-7ecf9f431ed7"
      },
      "execution_count": null,
      "outputs": [
        {
          "output_type": "stream",
          "name": "stdout",
          "text": [
            "1\n",
            "Train Accuracy: 1.0 Val Accuracy: 1.0\n",
            "2\n",
            "Train Accuracy: 1.0 Val Accuracy: 1.0\n",
            "3\n",
            "Train Accuracy: 1.0 Val Accuracy: 1.0\n",
            "4\n",
            "Train Accuracy: 1.0 Val Accuracy: 1.0\n",
            "5\n",
            "Train Accuracy: 1.0 Val Accuracy: 1.0\n",
            "6\n",
            "Train Accuracy: 1.0 Val Accuracy: 1.0\n",
            "7\n",
            "Train Accuracy: 1.0 Val Accuracy: 1.0\n",
            "8\n",
            "Train Accuracy: 1.0 Val Accuracy: 1.0\n",
            "9\n",
            "Train Accuracy: 1.0 Val Accuracy: 1.0\n",
            "10\n",
            "Train Accuracy: 1.0 Val Accuracy: 1.0\n",
            "20\n",
            "Train Accuracy: 1.0 Val Accuracy: 1.0\n",
            "40\n",
            "Train Accuracy: 1.0 Val Accuracy: 1.0\n"
          ]
        }
      ]
    }
  ]
}